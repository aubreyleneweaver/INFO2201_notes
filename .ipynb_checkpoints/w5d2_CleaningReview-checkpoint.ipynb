{
 "cells": [
  {
   "cell_type": "markdown",
   "metadata": {},
   "source": [
    "## Exercise 1 - Little but Confusing Cleaning "
   ]
  },
  {
   "cell_type": "markdown",
   "metadata": {},
   "source": [
    " Write a function to read through the Rolling Stone Top 500 album list file (one line at\n",
    " a time) and create a dictionary where the key is the primary genre and the value is the \n",
    " number of albums of that genre. For albums that have multiple primary genres, just use \n",
    " the first genre listed. Your function should take a filename as a parameter. \n",
    " When your function finishes reading the file, it should print the genre names and the \n",
    " number of albums from each genre that are in the Top 500.  Here is the expected output:\n",
    "\n",
    "\n",
    "The genres should be printed out in the order of most to \n",
    "least for number of albums. Use the function sortDictionaryByValues in the file \n",
    "sortdictionary.py to sort your dictionary. \n",
    "\n",
    "**Hint: Use the csv module.  It will make your life quite a bit easier.**\n",
    "\n",
    "to use the sortdictionary code, save the sortdictionary.py file in the same folder as \n",
    "\n",
    "import the sort dictionary module:\n",
    " \n",
    "~~~ \n",
    "import sortdictionary\n",
    "~~~\n",
    "\n",
    "this code in this file will sort your dictionary by values. the syntax for creating a sorted dictionary \n",
    "works as follows:\n",
    "\n",
    "~~~\n",
    "sortedDictionary = sortdictionary.sortDictionaryByValues(dictionaryToSort,ascending=False)\n",
    "~~~\n",
    "\n",
    "if ascending is set to False, your dictionary will be sorted with values going from greatest-to-least.  \n",
    "setting ascending=True will sort the dictionary with values going from least-to-greatest."
   ]
  },
  {
   "cell_type": "code",
   "execution_count": null,
   "metadata": {},
   "outputs": [],
   "source": []
  },
  {
   "cell_type": "code",
   "execution_count": null,
   "metadata": {},
   "outputs": [],
   "source": []
  },
  {
   "cell_type": "code",
   "execution_count": null,
   "metadata": {},
   "outputs": [],
   "source": []
  },
  {
   "cell_type": "code",
   "execution_count": null,
   "metadata": {},
   "outputs": [],
   "source": []
  },
  {
   "cell_type": "markdown",
   "metadata": {},
   "source": [
    "# Exercise 2 - do the same thing with pandas\n",
    "\n",
    "Write a function to read through the Rolling Stone Top 500 album list using Pandas and output two columns \n",
    "where the first column is primary genre name and the second column is number of albums in that genre.  \n",
    "For albums that have multiple primary genres, just use the first genre listed. \n",
    "Your function should take the csv filename as a parameter. The data should be sorted by number of albums, \n",
    "from greatest to least.\n",
    "\n",
    "The output should have identical totals to the output in Problem 1.\n",
    "\n",
    "Hint: You'll need to solve this using the .apply method along with either a user-defined function or a lambda \n",
    "funciton.  You ARE NOT permitted to use pandas's str.split method."
   ]
  },
  {
   "cell_type": "code",
   "execution_count": 15,
   "metadata": {},
   "outputs": [],
   "source": [
    "# Write a function to read through the Rolling Stone Top 500 album list file (one line at a time)"
   ]
  },
  {
   "cell_type": "code",
   "execution_count": null,
   "metadata": {},
   "outputs": [],
   "source": [
    "# Your function should take a filename as a parameter.\n",
    "def genreOrganizer(filename):\n",
    "    genreDict = {}\n",
    "\n",
    "    # read in the csv\n",
    "    data = pd.read_csv(filename)\n",
    "\n",
    "    # for albums that have multiple primary genres. just use the first genre listed.\n",
    "\n",
    "    genrecol = data[\"Genre\"]\n",
    "\n",
    "    for album in genrecol:\n",
    "        genreLyst = album.split(\"/\")\n",
    "        genreLyst2 = genreLyst[0].split(\",\")\n",
    "        firstGenre = genreLyst2[0]\n",
    "        # print(firstGenre)\n",
    "\n",
    "    # create a dictionary where the key "
   ]
  },
  {
   "cell_type": "code",
   "execution_count": null,
   "metadata": {},
   "outputs": [],
   "source": []
  },
  {
   "cell_type": "code",
   "execution_count": null,
   "metadata": {},
   "outputs": [],
   "source": []
  },
  {
   "cell_type": "markdown",
   "metadata": {},
   "source": [
    "# Exercise 3 - do it your self\n",
    "\n",
    "Using the Batting.cs file, determine which year had the most homeruns.  How many homeruns were there?\n",
    "\n",
    "the answer: There were 6776 homeruns in 2019\n"
   ]
  },
  {
   "cell_type": "code",
   "execution_count": 1,
   "metadata": {},
   "outputs": [],
   "source": [
    "import pandas as pd\n",
    "df = pd.read_csv(\"data/Batting.csv\")"
   ]
  },
  {
   "cell_type": "code",
   "execution_count": 3,
   "metadata": {},
   "outputs": [
    {
     "data": {
      "text/html": [
       "<div>\n",
       "<style scoped>\n",
       "    .dataframe tbody tr th:only-of-type {\n",
       "        vertical-align: middle;\n",
       "    }\n",
       "\n",
       "    .dataframe tbody tr th {\n",
       "        vertical-align: top;\n",
       "    }\n",
       "\n",
       "    .dataframe thead th {\n",
       "        text-align: right;\n",
       "    }\n",
       "</style>\n",
       "<table border=\"1\" class=\"dataframe\">\n",
       "  <thead>\n",
       "    <tr style=\"text-align: right;\">\n",
       "      <th></th>\n",
       "      <th>playerID</th>\n",
       "      <th>yearID</th>\n",
       "      <th>stint</th>\n",
       "      <th>teamID</th>\n",
       "      <th>lgID</th>\n",
       "      <th>G</th>\n",
       "      <th>G_batting</th>\n",
       "      <th>AB</th>\n",
       "      <th>R</th>\n",
       "      <th>H</th>\n",
       "      <th>...</th>\n",
       "      <th>SB</th>\n",
       "      <th>CS</th>\n",
       "      <th>BB</th>\n",
       "      <th>SO</th>\n",
       "      <th>IBB</th>\n",
       "      <th>HBP</th>\n",
       "      <th>SH</th>\n",
       "      <th>SF</th>\n",
       "      <th>GIDP</th>\n",
       "      <th>G_old</th>\n",
       "    </tr>\n",
       "  </thead>\n",
       "  <tbody>\n",
       "    <tr>\n",
       "      <th>0</th>\n",
       "      <td>aardsda01</td>\n",
       "      <td>2004</td>\n",
       "      <td>1</td>\n",
       "      <td>SFN</td>\n",
       "      <td>NL</td>\n",
       "      <td>11</td>\n",
       "      <td>NaN</td>\n",
       "      <td>0</td>\n",
       "      <td>0</td>\n",
       "      <td>0</td>\n",
       "      <td>...</td>\n",
       "      <td>0.0</td>\n",
       "      <td>0.0</td>\n",
       "      <td>0</td>\n",
       "      <td>0.0</td>\n",
       "      <td>0.0</td>\n",
       "      <td>0.0</td>\n",
       "      <td>0.0</td>\n",
       "      <td>0.0</td>\n",
       "      <td>0.0</td>\n",
       "      <td>NaN</td>\n",
       "    </tr>\n",
       "    <tr>\n",
       "      <th>1</th>\n",
       "      <td>aardsda01</td>\n",
       "      <td>2006</td>\n",
       "      <td>1</td>\n",
       "      <td>CHN</td>\n",
       "      <td>NL</td>\n",
       "      <td>45</td>\n",
       "      <td>NaN</td>\n",
       "      <td>2</td>\n",
       "      <td>0</td>\n",
       "      <td>0</td>\n",
       "      <td>...</td>\n",
       "      <td>0.0</td>\n",
       "      <td>0.0</td>\n",
       "      <td>0</td>\n",
       "      <td>0.0</td>\n",
       "      <td>0.0</td>\n",
       "      <td>0.0</td>\n",
       "      <td>1.0</td>\n",
       "      <td>0.0</td>\n",
       "      <td>0.0</td>\n",
       "      <td>NaN</td>\n",
       "    </tr>\n",
       "    <tr>\n",
       "      <th>2</th>\n",
       "      <td>aardsda01</td>\n",
       "      <td>2007</td>\n",
       "      <td>1</td>\n",
       "      <td>CHA</td>\n",
       "      <td>AL</td>\n",
       "      <td>25</td>\n",
       "      <td>NaN</td>\n",
       "      <td>0</td>\n",
       "      <td>0</td>\n",
       "      <td>0</td>\n",
       "      <td>...</td>\n",
       "      <td>0.0</td>\n",
       "      <td>0.0</td>\n",
       "      <td>0</td>\n",
       "      <td>0.0</td>\n",
       "      <td>0.0</td>\n",
       "      <td>0.0</td>\n",
       "      <td>0.0</td>\n",
       "      <td>0.0</td>\n",
       "      <td>0.0</td>\n",
       "      <td>NaN</td>\n",
       "    </tr>\n",
       "    <tr>\n",
       "      <th>3</th>\n",
       "      <td>aardsda01</td>\n",
       "      <td>2008</td>\n",
       "      <td>1</td>\n",
       "      <td>BOS</td>\n",
       "      <td>AL</td>\n",
       "      <td>47</td>\n",
       "      <td>NaN</td>\n",
       "      <td>1</td>\n",
       "      <td>0</td>\n",
       "      <td>0</td>\n",
       "      <td>...</td>\n",
       "      <td>0.0</td>\n",
       "      <td>0.0</td>\n",
       "      <td>0</td>\n",
       "      <td>1.0</td>\n",
       "      <td>0.0</td>\n",
       "      <td>0.0</td>\n",
       "      <td>0.0</td>\n",
       "      <td>0.0</td>\n",
       "      <td>0.0</td>\n",
       "      <td>NaN</td>\n",
       "    </tr>\n",
       "    <tr>\n",
       "      <th>4</th>\n",
       "      <td>aardsda01</td>\n",
       "      <td>2009</td>\n",
       "      <td>1</td>\n",
       "      <td>SEA</td>\n",
       "      <td>AL</td>\n",
       "      <td>73</td>\n",
       "      <td>NaN</td>\n",
       "      <td>0</td>\n",
       "      <td>0</td>\n",
       "      <td>0</td>\n",
       "      <td>...</td>\n",
       "      <td>0.0</td>\n",
       "      <td>0.0</td>\n",
       "      <td>0</td>\n",
       "      <td>0.0</td>\n",
       "      <td>0.0</td>\n",
       "      <td>0.0</td>\n",
       "      <td>0.0</td>\n",
       "      <td>0.0</td>\n",
       "      <td>0.0</td>\n",
       "      <td>NaN</td>\n",
       "    </tr>\n",
       "  </tbody>\n",
       "</table>\n",
       "<p>5 rows × 24 columns</p>\n",
       "</div>"
      ],
      "text/plain": [
       "    playerID  yearID  stint teamID lgID   G  G_batting  AB  R  H  ...   SB  \\\n",
       "0  aardsda01    2004      1    SFN   NL  11        NaN   0  0  0  ...  0.0   \n",
       "1  aardsda01    2006      1    CHN   NL  45        NaN   2  0  0  ...  0.0   \n",
       "2  aardsda01    2007      1    CHA   AL  25        NaN   0  0  0  ...  0.0   \n",
       "3  aardsda01    2008      1    BOS   AL  47        NaN   1  0  0  ...  0.0   \n",
       "4  aardsda01    2009      1    SEA   AL  73        NaN   0  0  0  ...  0.0   \n",
       "\n",
       "    CS  BB   SO  IBB  HBP   SH   SF  GIDP  G_old  \n",
       "0  0.0   0  0.0  0.0  0.0  0.0  0.0   0.0    NaN  \n",
       "1  0.0   0  0.0  0.0  0.0  1.0  0.0   0.0    NaN  \n",
       "2  0.0   0  0.0  0.0  0.0  0.0  0.0   0.0    NaN  \n",
       "3  0.0   0  1.0  0.0  0.0  0.0  0.0   0.0    NaN  \n",
       "4  0.0   0  0.0  0.0  0.0  0.0  0.0   0.0    NaN  \n",
       "\n",
       "[5 rows x 24 columns]"
      ]
     },
     "execution_count": 3,
     "metadata": {},
     "output_type": "execute_result"
    }
   ],
   "source": [
    "df.head()"
   ]
  },
  {
   "cell_type": "code",
   "execution_count": 5,
   "metadata": {},
   "outputs": [
    {
     "data": {
      "text/plain": [
       "Index(['playerID', 'yearID', 'stint', 'teamID', 'lgID', 'G', 'G_batting', 'AB',\n",
       "       'R', 'H', '2B', '3B', 'HR', 'RBI', 'SB', 'CS', 'BB', 'SO', 'IBB', 'HBP',\n",
       "       'SH', 'SF', 'GIDP', 'G_old'],\n",
       "      dtype='object')"
      ]
     },
     "execution_count": 5,
     "metadata": {},
     "output_type": "execute_result"
    }
   ],
   "source": [
    "df.columns"
   ]
  },
  {
   "cell_type": "code",
   "execution_count": 11,
   "metadata": {},
   "outputs": [
    {
     "data": {
      "text/plain": [
       "yearID\n",
       "2019    6776\n",
       "2017    6105\n",
       "2021    5944\n",
       "2023    5868\n",
       "2000    5693\n",
       "        ... \n",
       "1875      40\n",
       "1874      40\n",
       "1872      37\n",
       "1877      24\n",
       "1878      23\n",
       "Name: HR, Length: 153, dtype: int64"
      ]
     },
     "execution_count": 11,
     "metadata": {},
     "output_type": "execute_result"
    }
   ],
   "source": [
    "years = df.groupby('yearID')['HR'].sum()\n",
    "top_years = years.sort_values(ascending = False)\n",
    "top_years"
   ]
  },
  {
   "cell_type": "code",
   "execution_count": 13,
   "metadata": {},
   "outputs": [
    {
     "data": {
      "text/plain": [
       "6776"
      ]
     },
     "execution_count": 13,
     "metadata": {},
     "output_type": "execute_result"
    }
   ],
   "source": [
    "top_years.max()"
   ]
  },
  {
   "cell_type": "code",
   "execution_count": null,
   "metadata": {},
   "outputs": [],
   "source": []
  }
 ],
 "metadata": {
  "kernelspec": {
   "display_name": "Python [conda env:base] *",
   "language": "python",
   "name": "conda-base-py"
  },
  "language_info": {
   "codemirror_mode": {
    "name": "ipython",
    "version": 3
   },
   "file_extension": ".py",
   "mimetype": "text/x-python",
   "name": "python",
   "nbconvert_exporter": "python",
   "pygments_lexer": "ipython3",
   "version": "3.12.7"
  }
 },
 "nbformat": 4,
 "nbformat_minor": 4
}
