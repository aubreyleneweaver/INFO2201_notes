{
 "cells": [
  {
   "cell_type": "markdown",
   "metadata": {
    "id": "wsl6yy9yjGwV"
   },
   "source": [
    "# Week 1, Day 4\n",
    "\n",
    "**In this class we will learn about:**\n",
    "- Tuples\n",
    "- Lists\n",
    "- Dictionaries"
   ]
  },
  {
   "cell_type": "markdown",
   "metadata": {
    "id": "QhIFQHrPqXUP"
   },
   "source": [
    "## Tuples"
   ]
  },
  {
   "cell_type": "markdown",
   "metadata": {
    "id": "XEkTJhaFqcTd"
   },
   "source": [
    "A Tuple is a collection which is ordered and unchangeable. Tuples are written with round brackets. The values can be repeated, but their number is always finite.\n"
   ]
  },
  {
   "cell_type": "code",
   "execution_count": 3,
   "metadata": {
    "colab": {
     "base_uri": "https://localhost:8080/"
    },
    "executionInfo": {
     "elapsed": 192,
     "status": "ok",
     "timestamp": 1686238804649,
     "user": {
      "displayName": "Anas Buhayh",
      "userId": "13931278578707862625"
     },
     "user_tz": 360
    },
    "id": "-R2Rve2hjDIf",
    "outputId": "a5f11bd2-e145-4829-d020-7f3b871280c1"
   },
   "outputs": [
    {
     "data": {
      "text/plain": [
       "str"
      ]
     },
     "execution_count": 3,
     "metadata": {},
     "output_type": "execute_result"
    }
   ],
   "source": [
    "# Is this a tuple?\n",
    "t1 = (\"a\")\n",
    "\n",
    "type(t1)"
   ]
  },
  {
   "cell_type": "code",
   "execution_count": 5,
   "metadata": {
    "colab": {
     "base_uri": "https://localhost:8080/"
    },
    "executionInfo": {
     "elapsed": 161,
     "status": "ok",
     "timestamp": 1686238841118,
     "user": {
      "displayName": "Anas Buhayh",
      "userId": "13931278578707862625"
     },
     "user_tz": 360
    },
    "id": "eehQxcNYqicB",
    "outputId": "caf908a8-0ed5-4751-bd4e-b9ad6129686e"
   },
   "outputs": [
    {
     "data": {
      "text/plain": [
       "tuple"
      ]
     },
     "execution_count": 5,
     "metadata": {},
     "output_type": "execute_result"
    }
   ],
   "source": [
    "# Is this a tuple\n",
    "t2 = (\"b\",)\n",
    "\n",
    "type(t2)"
   ]
  },
  {
   "cell_type": "code",
   "execution_count": 9,
   "metadata": {
    "colab": {
     "base_uri": "https://localhost:8080/"
    },
    "executionInfo": {
     "elapsed": 2,
     "status": "ok",
     "timestamp": 1686238875105,
     "user": {
      "displayName": "Anas Buhayh",
      "userId": "13931278578707862625"
     },
     "user_tz": 360
    },
    "id": "JLzOjv3uqsdg",
    "outputId": "6985295d-693d-416b-afd8-50c500117682"
   },
   "outputs": [
    {
     "name": "stdout",
     "output_type": "stream",
     "text": [
      "a\n"
     ]
    }
   ],
   "source": [
    "# make a longer tuple\n",
    "t3 = (\"a\",\"b\",\"c\",\"d\")\n",
    "\n",
    "# print the first item in that tuple \n",
    "print(t3[0])"
   ]
  },
  {
   "cell_type": "code",
   "execution_count": 11,
   "metadata": {
    "colab": {
     "base_uri": "https://localhost:8080/"
    },
    "executionInfo": {
     "elapsed": 195,
     "status": "ok",
     "timestamp": 1686238903480,
     "user": {
      "displayName": "Anas Buhayh",
      "userId": "13931278578707862625"
     },
     "user_tz": 360
    },
    "id": "9BA2qSF4q0yg",
    "outputId": "181a55b5-143a-425a-abe5-255f7b448886"
   },
   "outputs": [
    {
     "data": {
      "text/plain": [
       "('a', 'b', 'c')"
      ]
     },
     "execution_count": 11,
     "metadata": {},
     "output_type": "execute_result"
    }
   ],
   "source": [
    "#print a the first second and third items in the tuple\n",
    "t3[0:3]"
   ]
  },
  {
   "cell_type": "code",
   "execution_count": 13,
   "metadata": {
    "colab": {
     "base_uri": "https://localhost:8080/",
     "height": 165
    },
    "executionInfo": {
     "elapsed": 115,
     "status": "error",
     "timestamp": 1686238922736,
     "user": {
      "displayName": "Anas Buhayh",
      "userId": "13931278578707862625"
     },
     "user_tz": 360
    },
    "id": "y0dUtF8Pq2Sv",
    "outputId": "037daa56-fb19-4f04-98c4-070eea269227"
   },
   "outputs": [
    {
     "ename": "TypeError",
     "evalue": "'tuple' object does not support item assignment",
     "output_type": "error",
     "traceback": [
      "\u001b[0;31m---------------------------------------------------------------------------\u001b[0m",
      "\u001b[0;31mTypeError\u001b[0m                                 Traceback (most recent call last)",
      "Cell \u001b[0;32mIn[13], line 2\u001b[0m\n\u001b[1;32m      1\u001b[0m \u001b[38;5;66;03m#re-assign the second item to a letter\u001b[39;00m\n\u001b[0;32m----> 2\u001b[0m t3[\u001b[38;5;241m1\u001b[39m] \u001b[38;5;241m=\u001b[39m \u001b[38;5;124m\"\u001b[39m\u001b[38;5;124mg\u001b[39m\u001b[38;5;124m\"\u001b[39m\n",
      "\u001b[0;31mTypeError\u001b[0m: 'tuple' object does not support item assignment"
     ]
    }
   ],
   "source": [
    "#re-assign the second item to a letter\n",
    "t3[1] = \"g\"\n"
   ]
  },
  {
   "cell_type": "code",
   "execution_count": 15,
   "metadata": {
    "id": "MpOb84TprlvA"
   },
   "outputs": [],
   "source": [
    "# make a tuple with strings\n",
    "strTuple = (\"apple\", \"banana\", \"cherry\")\n"
   ]
  },
  {
   "cell_type": "code",
   "execution_count": 17,
   "metadata": {
    "colab": {
     "base_uri": "https://localhost:8080/"
    },
    "executionInfo": {
     "elapsed": 120,
     "status": "ok",
     "timestamp": 1686239091049,
     "user": {
      "displayName": "Anas Buhayh",
      "userId": "13931278578707862625"
     },
     "user_tz": 360
    },
    "id": "FhZu6RcTrAZ4",
    "outputId": "81fc1eaa-f878-49e5-b520-7a619b811ed8"
   },
   "outputs": [
    {
     "data": {
      "text/plain": [
       "tuple"
      ]
     },
     "execution_count": 17,
     "metadata": {},
     "output_type": "execute_result"
    }
   ],
   "source": [
    "type(strTuple)"
   ]
  },
  {
   "cell_type": "markdown",
   "metadata": {
    "id": "a2Xf568srq45"
   },
   "source": [
    "### Excercise 1: \n",
    "1.   create a tuple with your favorite hobbies, tv shows, etc. ordered by your highest favorit to the lowest\n",
    "2.   access the last item in the tuple and print it out\n",
    "3. print out the last item in the tuple in the following formating --> \" My least favorite hobby is -----\"\n",
    "\n"
   ]
  },
  {
   "cell_type": "code",
   "execution_count": 1,
   "metadata": {
    "id": "JLit-a4lrqXE"
   },
   "outputs": [],
   "source": [
    "hobbies_fav = (\"craft\",\"golf\",\"running\",\"gardening\")"
   ]
  },
  {
   "cell_type": "code",
   "execution_count": 5,
   "metadata": {},
   "outputs": [
    {
     "name": "stdout",
     "output_type": "stream",
     "text": [
      "My least favorite hobby is  gardening\n"
     ]
    }
   ],
   "source": [
    "print(\"My least favorite hobby is \" , hobbies_fav[-1])"
   ]
  },
  {
   "cell_type": "markdown",
   "metadata": {
    "id": "BoNSVqC6rWbH"
   },
   "source": [
    "## Lists"
   ]
  },
  {
   "cell_type": "markdown",
   "metadata": {},
   "source": [
    "Lists are used to store multiple items in a single variable. Lists are one of 4 built-in data types in Python used to store collections of data. They are created using square brackets"
   ]
  },
  {
   "cell_type": "code",
   "execution_count": 21,
   "metadata": {
    "id": "kzDOQGkatCJE"
   },
   "outputs": [],
   "source": [
    "#make some lists\n",
    "strTuple = (\"apple\", \"banana\", \"cherry\")\n",
    "strLyst = [\"apple\", \"banana\", \"cherry\"]\n",
    "\n",
    "alyst = [10,20,30,40,50,60]\n",
    "blyst = [\"lol\", \"lmao\", \"rofl\",\"thx\"]\n",
    "clyst = [\"outside\", 2030, (40.22,8484.233), [\"CMCI\", \"CS\", \"ENGINEERING\"]]\n",
    "dlyst = []"
   ]
  },
  {
   "cell_type": "code",
   "execution_count": 23,
   "metadata": {
    "colab": {
     "base_uri": "https://localhost:8080/"
    },
    "executionInfo": {
     "elapsed": 123,
     "status": "ok",
     "timestamp": 1686239875651,
     "user": {
      "displayName": "Anas Buhayh",
      "userId": "13931278578707862625"
     },
     "user_tz": 360
    },
    "id": "4GC9z98iujKd",
    "outputId": "60849f8a-fd5a-4949-b2fd-3ee9fb7cae6c"
   },
   "outputs": [
    {
     "data": {
      "text/plain": [
       "True"
      ]
     },
     "execution_count": 23,
     "metadata": {},
     "output_type": "execute_result"
    }
   ],
   "source": [
    "# Check if item in a list\n",
    "10 in alyst"
   ]
  },
  {
   "cell_type": "markdown",
   "metadata": {
    "id": "Sz_XBFMruuyY"
   },
   "source": [
    "### List operatoins"
   ]
  },
  {
   "cell_type": "code",
   "execution_count": 25,
   "metadata": {
    "id": "Jo_J-VvhuvtF"
   },
   "outputs": [],
   "source": [
    "# make some numerical lists\n",
    "a =[1,2,3]\n",
    "b = [4,5,6]"
   ]
  },
  {
   "cell_type": "code",
   "execution_count": 27,
   "metadata": {
    "colab": {
     "base_uri": "https://localhost:8080/"
    },
    "executionInfo": {
     "elapsed": 4,
     "status": "ok",
     "timestamp": 1686240003725,
     "user": {
      "displayName": "Anas Buhayh",
      "userId": "13931278578707862625"
     },
     "user_tz": 360
    },
    "id": "UvX68yCIu2ex",
    "outputId": "f9db16f0-03a9-4c16-b696-86846177c55f"
   },
   "outputs": [
    {
     "data": {
      "text/plain": [
       "[1, 2, 3, 1, 2, 3, 1, 2, 3]"
      ]
     },
     "execution_count": 27,
     "metadata": {},
     "output_type": "execute_result"
    }
   ],
   "source": [
    "#Multiply a list by a number?\n",
    "a * 3"
   ]
  },
  {
   "cell_type": "code",
   "execution_count": 29,
   "metadata": {
    "colab": {
     "base_uri": "https://localhost:8080/"
    },
    "executionInfo": {
     "elapsed": 6,
     "status": "ok",
     "timestamp": 1686240004007,
     "user": {
      "displayName": "Anas Buhayh",
      "userId": "13931278578707862625"
     },
     "user_tz": 360
    },
    "id": "BDWrew6Yu5nq",
    "outputId": "4206f00f-2732-4cf8-afc5-ae14c324cd87"
   },
   "outputs": [
    {
     "data": {
      "text/plain": [
       "[1, 2, 3, 4, 5, 6]"
      ]
     },
     "execution_count": 29,
     "metadata": {},
     "output_type": "execute_result"
    }
   ],
   "source": [
    "#Add two lists together?\n",
    "a + b"
   ]
  },
  {
   "cell_type": "code",
   "execution_count": 31,
   "metadata": {
    "colab": {
     "base_uri": "https://localhost:8080/"
    },
    "executionInfo": {
     "elapsed": 2,
     "status": "ok",
     "timestamp": 1686240004122,
     "user": {
      "displayName": "Anas Buhayh",
      "userId": "13931278578707862625"
     },
     "user_tz": 360
    },
    "id": "xRQn-qEeu8Hi",
    "outputId": "f4f4688f-3f9b-4a17-8cc4-e6965aaa4398"
   },
   "outputs": [
    {
     "data": {
      "text/plain": [
       "5"
      ]
     },
     "execution_count": 31,
     "metadata": {},
     "output_type": "execute_result"
    }
   ],
   "source": [
    "# Mulitply the first item in a by 5\n",
    "a[0] * 5"
   ]
  },
  {
   "cell_type": "code",
   "execution_count": 33,
   "metadata": {
    "id": "_qzq7J_jvAR4"
   },
   "outputs": [],
   "source": [
    "#Reassign the first item in a to be that same number * 5\n",
    "a[0] = a[0] * 5"
   ]
  },
  {
   "cell_type": "code",
   "execution_count": 35,
   "metadata": {
    "colab": {
     "base_uri": "https://localhost:8080/"
    },
    "executionInfo": {
     "elapsed": 3,
     "status": "ok",
     "timestamp": 1686240004570,
     "user": {
      "displayName": "Anas Buhayh",
      "userId": "13931278578707862625"
     },
     "user_tz": 360
    },
    "id": "Q_c8PijyvAqY",
    "outputId": "89553f75-9cce-444b-d203-01025665c1af"
   },
   "outputs": [
    {
     "data": {
      "text/plain": [
       "[5, 2, 3]"
      ]
     },
     "execution_count": 35,
     "metadata": {},
     "output_type": "execute_result"
    }
   ],
   "source": [
    "#check\n",
    "a"
   ]
  },
  {
   "cell_type": "markdown",
   "metadata": {
    "id": "CyGWVOoNvNnE"
   },
   "source": [
    "### Lists slices"
   ]
  },
  {
   "cell_type": "code",
   "execution_count": 9,
   "metadata": {
    "id": "UesJ3jWNvFVD"
   },
   "outputs": [],
   "source": [
    "# create a list of strings\n",
    "myList = [\"cat\",\"dog\",\"cow\",\"fish\"]"
   ]
  },
  {
   "cell_type": "code",
   "execution_count": 11,
   "metadata": {
    "colab": {
     "base_uri": "https://localhost:8080/",
     "height": 35
    },
    "executionInfo": {
     "elapsed": 125,
     "status": "ok",
     "timestamp": 1686240048079,
     "user": {
      "displayName": "Anas Buhayh",
      "userId": "13931278578707862625"
     },
     "user_tz": 360
    },
    "id": "BwF9hvMCvSBV",
    "outputId": "2f39bf01-0602-46a5-dad2-aad33704db27"
   },
   "outputs": [
    {
     "data": {
      "text/plain": [
       "'fish'"
      ]
     },
     "execution_count": 11,
     "metadata": {},
     "output_type": "execute_result"
    }
   ],
   "source": [
    "#what is the last item of the list\n",
    "myList[-1]"
   ]
  },
  {
   "cell_type": "code",
   "execution_count": 13,
   "metadata": {
    "colab": {
     "base_uri": "https://localhost:8080/"
    },
    "executionInfo": {
     "elapsed": 5,
     "status": "ok",
     "timestamp": 1686240056562,
     "user": {
      "displayName": "Anas Buhayh",
      "userId": "13931278578707862625"
     },
     "user_tz": 360
    },
    "id": "ljX0fZ4lvTJP",
    "outputId": "137e363f-d85e-441b-8eb2-840ef5973bd8"
   },
   "outputs": [
    {
     "data": {
      "text/plain": [
       "['cow']"
      ]
     },
     "execution_count": 13,
     "metadata": {},
     "output_type": "execute_result"
    }
   ],
   "source": [
    "#get the items at positions 2 and 4\n",
    "myList[2:5:2]"
   ]
  },
  {
   "cell_type": "code",
   "execution_count": 15,
   "metadata": {
    "colab": {
     "base_uri": "https://localhost:8080/"
    },
    "executionInfo": {
     "elapsed": 357,
     "status": "ok",
     "timestamp": 1686240060727,
     "user": {
      "displayName": "Anas Buhayh",
      "userId": "13931278578707862625"
     },
     "user_tz": 360
    },
    "id": "MQTRCYZAvVMi",
    "outputId": "1edb2db7-0505-439f-ee4a-14317d5b181c"
   },
   "outputs": [
    {
     "data": {
      "text/plain": [
       "[]"
      ]
     },
     "execution_count": 15,
     "metadata": {},
     "output_type": "execute_result"
    }
   ],
   "source": [
    "# get the items after position 3\n",
    "myList[4:]"
   ]
  },
  {
   "cell_type": "markdown",
   "metadata": {
    "id": "iGYZSDy5vb9t"
   },
   "source": [
    "### List methods (append, extend, sort, pop, and remove)"
   ]
  },
  {
   "cell_type": "code",
   "execution_count": 17,
   "metadata": {
    "colab": {
     "base_uri": "https://localhost:8080/"
    },
    "executionInfo": {
     "elapsed": 568,
     "status": "ok",
     "timestamp": 1686240220359,
     "user": {
      "displayName": "Anas Buhayh",
      "userId": "13931278578707862625"
     },
     "user_tz": 360
    },
    "id": "vxAYp1-TvWLP",
    "outputId": "4dca3bf6-e116-4f80-91b3-bd1c14942508"
   },
   "outputs": [
    {
     "data": {
      "text/plain": [
       "['cat', 'dog', 'cow', 'fish']"
      ]
     },
     "execution_count": 17,
     "metadata": {},
     "output_type": "execute_result"
    }
   ],
   "source": [
    "#have a list to work with\n",
    "myList"
   ]
  },
  {
   "cell_type": "code",
   "execution_count": 19,
   "metadata": {
    "id": "W_5Obo_Qv9Fb"
   },
   "outputs": [
    {
     "name": "stdout",
     "output_type": "stream",
     "text": [
      "['cat', 'dog', 'cow', 'fish', 'pig']\n"
     ]
    }
   ],
   "source": [
    "#appending\n",
    "myList.append(\"pig\")\n",
    "print(myList)"
   ]
  },
  {
   "cell_type": "code",
   "execution_count": 25,
   "metadata": {
    "id": "ZLBTnjTXwAKI"
   },
   "outputs": [
    {
     "data": {
      "text/plain": [
       "['apple', 'banana', 'cherry']"
      ]
     },
     "execution_count": 25,
     "metadata": {},
     "output_type": "execute_result"
    }
   ],
   "source": [
    "#make another list \n",
    "strLyst "
   ]
  },
  {
   "cell_type": "code",
   "execution_count": 27,
   "metadata": {
    "id": "ycbL2SOqwH9a"
   },
   "outputs": [
    {
     "name": "stdout",
     "output_type": "stream",
     "text": [
      "['cat', 'dog', 'cow', 'fish', 'pig', 'apple', 'banana', 'cherry']\n"
     ]
    }
   ],
   "source": [
    "#extending\n",
    "myList.extend(strLyst)\n",
    "print(myList)"
   ]
  },
  {
   "cell_type": "code",
   "execution_count": 55,
   "metadata": {
    "id": "kUxj3kKIwLLJ"
   },
   "outputs": [],
   "source": [
    "#sorting\n",
    "unsortedLyst = [\"Jake\",\"John\", \"Mike\", \"Grace\", \"Riley\", \"Abby\", \"Zion\"]"
   ]
  },
  {
   "cell_type": "code",
   "execution_count": 61,
   "metadata": {
    "colab": {
     "base_uri": "https://localhost:8080/"
    },
    "executionInfo": {
     "elapsed": 222,
     "status": "ok",
     "timestamp": 1686240377809,
     "user": {
      "displayName": "Anas Buhayh",
      "userId": "13931278578707862625"
     },
     "user_tz": 360
    },
    "id": "qK17HosuwiqH",
    "outputId": "270eaaf2-73ef-437a-d746-03909a660a27"
   },
   "outputs": [
    {
     "name": "stdout",
     "output_type": "stream",
     "text": [
      "['Abby', 'Grace', 'Jake', 'John', 'Mike', 'Riley', 'Zion']\n"
     ]
    }
   ],
   "source": [
    "unsortedLyst.sort()\n",
    "sortedLyst = unsortedLyst\n",
    "print(sortedLyst)"
   ]
  },
  {
   "cell_type": "code",
   "execution_count": 63,
   "metadata": {
    "colab": {
     "base_uri": "https://localhost:8080/"
    },
    "executionInfo": {
     "elapsed": 143,
     "status": "ok",
     "timestamp": 1686240440593,
     "user": {
      "displayName": "Anas Buhayh",
      "userId": "13931278578707862625"
     },
     "user_tz": 360
    },
    "id": "4Snnh2S-wjnd",
    "outputId": "0db6ace7-b698-45de-af3d-9204ba58a4ff"
   },
   "outputs": [
    {
     "data": {
      "text/plain": [
       "['Abby', 'Grace', 'Jake', 'John', 'Mike', 'Riley', 'Zion']"
      ]
     },
     "execution_count": 63,
     "metadata": {},
     "output_type": "execute_result"
    }
   ],
   "source": [
    "#delteing\n",
    "sortedLyst"
   ]
  },
  {
   "cell_type": "code",
   "execution_count": 43,
   "metadata": {
    "colab": {
     "base_uri": "https://localhost:8080/",
     "height": 35
    },
    "executionInfo": {
     "elapsed": 135,
     "status": "ok",
     "timestamp": 1686240445739,
     "user": {
      "displayName": "Anas Buhayh",
      "userId": "13931278578707862625"
     },
     "user_tz": 360
    },
    "id": "h7mGfEDTwy-R",
    "outputId": "c13e767b-2105-4c4c-ef36-58920f66e26f"
   },
   "outputs": [
    {
     "name": "stdout",
     "output_type": "stream",
     "text": [
      "['Abby', 'Grace', 'Jake', 'John', 'Mike']\n"
     ]
    }
   ],
   "source": [
    "#pop()\n",
    "sortedLyst.pop()\n",
    "print(sortedLyst)"
   ]
  },
  {
   "cell_type": "code",
   "execution_count": 45,
   "metadata": {
    "colab": {
     "base_uri": "https://localhost:8080/",
     "height": 35
    },
    "executionInfo": {
     "elapsed": 8,
     "status": "ok",
     "timestamp": 1686240457424,
     "user": {
      "displayName": "Anas Buhayh",
      "userId": "13931278578707862625"
     },
     "user_tz": 360
    },
    "id": "0RIGyvT7w1pK",
    "outputId": "bf6eb32a-9760-4199-a105-6c821dcbfebb"
   },
   "outputs": [
    {
     "data": {
      "text/plain": [
       "'Jake'"
      ]
     },
     "execution_count": 45,
     "metadata": {},
     "output_type": "execute_result"
    }
   ],
   "source": [
    "#pop at a specific position (position 2)[not the same as 2nd item]\n",
    "sortedLyst.pop(2)"
   ]
  },
  {
   "cell_type": "code",
   "execution_count": 47,
   "metadata": {
    "colab": {
     "base_uri": "https://localhost:8080/",
     "height": 35
    },
    "executionInfo": {
     "elapsed": 8,
     "status": "ok",
     "timestamp": 1686240471678,
     "user": {
      "displayName": "Anas Buhayh",
      "userId": "13931278578707862625"
     },
     "user_tz": 360
    },
    "id": "Y6_lPHdZw417",
    "outputId": "0fa1789d-29ef-4020-d980-21b676e84a12"
   },
   "outputs": [
    {
     "name": "stdout",
     "output_type": "stream",
     "text": [
      "['Abby', 'John', 'Mike']\n"
     ]
    }
   ],
   "source": [
    "#pop position 1\n",
    "positionName = sortedLyst.pop(1)\n",
    "print(sortedLyst)\n",
    "print(positionName)"
   ]
  },
  {
   "cell_type": "code",
   "execution_count": 49,
   "metadata": {
    "colab": {
     "base_uri": "https://localhost:8080/",
     "height": 35
    },
    "executionInfo": {
     "elapsed": 218,
     "status": "ok",
     "timestamp": 1686240509284,
     "user": {
      "displayName": "Anas Buhayh",
      "userId": "13931278578707862625"
     },
     "user_tz": 360
    },
    "id": "szdS-w39xA3a",
    "outputId": "d98fa02c-d25c-4b3f-f549-f1a86f18b808"
   },
   "outputs": [
    {
     "name": "stdout",
     "output_type": "stream",
     "text": [
      "['John', 'Mike']\n"
     ]
    }
   ],
   "source": [
    "#pop the first thing in the list\n",
    "sortedLyst.pop(0)\n",
    "print(sortedLyst)"
   ]
  },
  {
   "cell_type": "code",
   "execution_count": 65,
   "metadata": {
    "id": "2XQeXYfbxT3L"
   },
   "outputs": [
    {
     "data": {
      "text/plain": [
       "['Abby', 'Grace', 'Jake', 'John', 'Mike', 'Riley', 'Zion']"
      ]
     },
     "execution_count": 65,
     "metadata": {},
     "output_type": "execute_result"
    }
   ],
   "source": [
    "#resetting the list\n",
    "sortedLyst = unsortedLyst\n",
    "unsortedLyst"
   ]
  },
  {
   "cell_type": "code",
   "execution_count": 67,
   "metadata": {
    "id": "KvcIrEb0xDt4"
   },
   "outputs": [
    {
     "data": {
      "text/plain": [
       "'Zion'"
      ]
     },
     "execution_count": 67,
     "metadata": {},
     "output_type": "execute_result"
    }
   ],
   "source": [
    "#assign the popped item\n",
    "poppedItem = sortedLyst.pop()\n",
    "poppedItem"
   ]
  },
  {
   "cell_type": "code",
   "execution_count": 69,
   "metadata": {
    "id": "L2Al8rTzxYAz"
   },
   "outputs": [],
   "source": [
    "# Remove\n",
    "sortedLyst.remove(\"Mike\")"
   ]
  },
  {
   "cell_type": "code",
   "execution_count": 71,
   "metadata": {
    "colab": {
     "base_uri": "https://localhost:8080/"
    },
    "executionInfo": {
     "elapsed": 189,
     "status": "ok",
     "timestamp": 1686240618893,
     "user": {
      "displayName": "Anas Buhayh",
      "userId": "13931278578707862625"
     },
     "user_tz": 360
    },
    "id": "FPr1c7uyxdqt",
    "outputId": "e24930d2-d9da-420b-ed29-49c0670bcef3"
   },
   "outputs": [
    {
     "data": {
      "text/plain": [
       "['Abby', 'Grace', 'Jake', 'John', 'Riley']"
      ]
     },
     "execution_count": 71,
     "metadata": {},
     "output_type": "execute_result"
    }
   ],
   "source": [
    "sortedLyst"
   ]
  },
  {
   "cell_type": "markdown",
   "metadata": {
    "id": "Fvcu8jT2yQYV"
   },
   "source": [
    "checking the length of the list"
   ]
  },
  {
   "cell_type": "markdown",
   "metadata": {
    "id": "c8k39uD2xpm-"
   },
   "source": [
    "### Excercise 2:\n",
    "1. create a list of the courses you took last year\n",
    "2. create a list of the courses you will take next year\n",
    "3. Add the lists together\n",
    "4. print the 3rd item of the new list\n",
    "5. print the middle 3 values using slicing\n",
    "6. delete one of the items in the list and assign it to a new variable\n",
    "7. can you add the deleted item back using append?\n",
    "8. sort the courses\n",
    "9. let's say you found a mistake in the list, can you update it?\n",
    "10. **BIG TASK:** \n",
    "  - add an input statement to check if the course is in your lists, \n",
    "  - **if** the course is in last years list, print out (\"I took this course last year\") \n",
    "  - **elif** it was in the next year list, print out (\"I will take it next year\") \n",
    "  - **else** print out, (\"this course is not in my lists\")"
   ]
  },
  {
   "cell_type": "code",
   "execution_count": null,
   "metadata": {},
   "outputs": [],
   "source": []
  },
  {
   "cell_type": "code",
   "execution_count": null,
   "metadata": {},
   "outputs": [],
   "source": []
  },
  {
   "cell_type": "code",
   "execution_count": null,
   "metadata": {},
   "outputs": [],
   "source": []
  },
  {
   "cell_type": "markdown",
   "metadata": {
    "id": "edDNd3sl0dbE"
   },
   "source": [
    "# Dictionaries\n",
    "\n",
    "Dictionaries are used to store data values in key:value pairs. Dictionaries cannot have two items with the same key.\n",
    "\n",
    "Dictionary items are ordered, changeable, and do not allow duplicates. Dictionary items are presented in key:value pairs, and can be referred to by using the key name.\n",
    "\n"
   ]
  },
  {
   "cell_type": "code",
   "execution_count": 75,
   "metadata": {
    "colab": {
     "base_uri": "https://localhost:8080/"
    },
    "executionInfo": {
     "elapsed": 156,
     "status": "ok",
     "timestamp": 1686241471878,
     "user": {
      "displayName": "Anas Buhayh",
      "userId": "13931278578707862625"
     },
     "user_tz": 360
    },
    "id": "7lgkife7xeb9",
    "outputId": "9b530849-9461-42d6-884b-d985031adcdd"
   },
   "outputs": [
    {
     "name": "stdout",
     "output_type": "stream",
     "text": [
      "{}\n"
     ]
    }
   ],
   "source": [
    "#make an empty dictionary\n",
    "#myCar = {}\n",
    "myCar = dict()\n",
    "print(myCar)"
   ]
  },
  {
   "cell_type": "code",
   "execution_count": 77,
   "metadata": {
    "colab": {
     "base_uri": "https://localhost:8080/"
    },
    "executionInfo": {
     "elapsed": 6,
     "status": "ok",
     "timestamp": 1686241472063,
     "user": {
      "displayName": "Anas Buhayh",
      "userId": "13931278578707862625"
     },
     "user_tz": 360
    },
    "id": "kx_-R7ob0j_a",
    "outputId": "46aa8e2e-d423-468f-abdd-6e60882316ba"
   },
   "outputs": [
    {
     "data": {
      "text/plain": [
       "dict"
      ]
     },
     "execution_count": 77,
     "metadata": {},
     "output_type": "execute_result"
    }
   ],
   "source": [
    "#check the type\n",
    "type(myCar)"
   ]
  },
  {
   "cell_type": "code",
   "execution_count": 79,
   "metadata": {
    "id": "6XfFcDWr0k7x"
   },
   "outputs": [],
   "source": [
    "#make a dicitonary about a car\n",
    "myCar = {\n",
    "    \"brand\":\"Jeep\",\n",
    "    \"color\":\"brown\",\n",
    "    \"model\":[2018,\"wrangler\"]\n",
    "}"
   ]
  },
  {
   "cell_type": "code",
   "execution_count": 81,
   "metadata": {
    "colab": {
     "base_uri": "https://localhost:8080/"
    },
    "executionInfo": {
     "elapsed": 125,
     "status": "ok",
     "timestamp": 1686241634145,
     "user": {
      "displayName": "Anas Buhayh",
      "userId": "13931278578707862625"
     },
     "user_tz": 360
    },
    "id": "nMbjq0zw0yj-",
    "outputId": "476470bf-400f-4b41-bb9e-73fa7560e60e"
   },
   "outputs": [
    {
     "data": {
      "text/plain": [
       "{'brand': 'Jeep', 'color': 'brown', 'model': [2018, 'wrangler']}"
      ]
     },
     "execution_count": 81,
     "metadata": {},
     "output_type": "execute_result"
    }
   ],
   "source": [
    "myCar"
   ]
  },
  {
   "cell_type": "code",
   "execution_count": 83,
   "metadata": {
    "colab": {
     "base_uri": "https://localhost:8080/"
    },
    "executionInfo": {
     "elapsed": 2,
     "status": "ok",
     "timestamp": 1686241639034,
     "user": {
      "displayName": "Anas Buhayh",
      "userId": "13931278578707862625"
     },
     "user_tz": 360
    },
    "id": "D9cixGa20y-W",
    "outputId": "0bf052ab-5177-4f1a-f41d-7a6a1c707971"
   },
   "outputs": [
    {
     "data": {
      "text/plain": [
       "'Jeep'"
      ]
     },
     "execution_count": 83,
     "metadata": {},
     "output_type": "execute_result"
    }
   ],
   "source": [
    "#get the brand of the car\n",
    "myCar[\"brand\"]"
   ]
  },
  {
   "cell_type": "code",
   "execution_count": 85,
   "metadata": {
    "colab": {
     "base_uri": "https://localhost:8080/"
    },
    "executionInfo": {
     "elapsed": 319,
     "status": "ok",
     "timestamp": 1686241643442,
     "user": {
      "displayName": "Anas Buhayh",
      "userId": "13931278578707862625"
     },
     "user_tz": 360
    },
    "id": "cocXag_S07Vx",
    "outputId": "e5693bd7-aa93-42d8-bacc-532586100b0e"
   },
   "outputs": [
    {
     "data": {
      "text/plain": [
       "True"
      ]
     },
     "execution_count": 85,
     "metadata": {},
     "output_type": "execute_result"
    }
   ],
   "source": [
    "#check if the value 'color' is in the dictionary\n",
    "\"color\" in myCar\n",
    "# only checks key so \"brown\" in myCar would be false"
   ]
  },
  {
   "cell_type": "code",
   "execution_count": 87,
   "metadata": {
    "id": "fyrwrLLj1Fhm"
   },
   "outputs": [
    {
     "data": {
      "text/plain": [
       "{'brand': 'Jeep',\n",
       " 'color': 'brown',\n",
       " 'model': [2018, 'wrangler'],\n",
       " 'nickname': 'Brownie'}"
      ]
     },
     "execution_count": 87,
     "metadata": {},
     "output_type": "execute_result"
    }
   ],
   "source": [
    "# make a new dictionary key:value pair assigning a name to the car \n",
    "myCar[\"nickname\"] = \"Brownie\"\n",
    "myCar"
   ]
  },
  {
   "cell_type": "code",
   "execution_count": 89,
   "metadata": {
    "colab": {
     "base_uri": "https://localhost:8080/"
    },
    "executionInfo": {
     "elapsed": 6,
     "status": "ok",
     "timestamp": 1686241659034,
     "user": {
      "displayName": "Anas Buhayh",
      "userId": "13931278578707862625"
     },
     "user_tz": 360
    },
    "id": "8K7B_RLD1aBU",
    "outputId": "d73b467a-afda-43b2-f291-9d73d6e5d791"
   },
   "outputs": [
    {
     "data": {
      "text/plain": [
       "dict_values(['Jeep', 'brown', [2018, 'wrangler'], 'Brownie'])"
      ]
     },
     "execution_count": 89,
     "metadata": {},
     "output_type": "execute_result"
    }
   ],
   "source": [
    "#return out all of the dictionary values\n",
    "myCar.values()\n"
   ]
  },
  {
   "cell_type": "code",
   "execution_count": 91,
   "metadata": {
    "colab": {
     "base_uri": "https://localhost:8080/"
    },
    "executionInfo": {
     "elapsed": 7,
     "status": "ok",
     "timestamp": 1686241666924,
     "user": {
      "displayName": "Anas Buhayh",
      "userId": "13931278578707862625"
     },
     "user_tz": 360
    },
    "id": "oH-jo2WE1cbV",
    "outputId": "b82a85ed-5b2c-419b-d3e2-ef439a05cbef"
   },
   "outputs": [
    {
     "data": {
      "text/plain": [
       "dict_keys(['brand', 'color', 'model', 'nickname'])"
      ]
     },
     "execution_count": 91,
     "metadata": {},
     "output_type": "execute_result"
    }
   ],
   "source": [
    "#return all of the dictionary keys\n",
    "myCar.keys()"
   ]
  },
  {
   "cell_type": "code",
   "execution_count": 97,
   "metadata": {
    "id": "4FrRcmf91eXT"
   },
   "outputs": [
    {
     "data": {
      "text/plain": [
       "{'brand': 'Jeep',\n",
       " 'color': 'Dark-Brown',\n",
       " 'model': [2018, 'wrangler'],\n",
       " 'nickname': 'Brownie'}"
      ]
     },
     "execution_count": 97,
     "metadata": {},
     "output_type": "execute_result"
    }
   ],
   "source": [
    "#change the color of the car\n",
    "myCar[\"color\"] = \"Dark-Brown\"\n",
    "myCar"
   ]
  },
  {
   "cell_type": "code",
   "execution_count": 99,
   "metadata": {
    "colab": {
     "base_uri": "https://localhost:8080/"
    },
    "executionInfo": {
     "elapsed": 4,
     "status": "ok",
     "timestamp": 1686241817032,
     "user": {
      "displayName": "Anas Buhayh",
      "userId": "13931278578707862625"
     },
     "user_tz": 360
    },
    "id": "ytS12mAK1-ih",
    "outputId": "ddfb67e1-92e5-4a6f-ed8a-b73776107d3b"
   },
   "outputs": [
    {
     "data": {
      "text/plain": [
       "dict_items([('brand', 'Jeep'), ('color', 'Dark-Brown'), ('model', [2018, 'wrangler']), ('nickname', 'Brownie')])"
      ]
     },
     "execution_count": 99,
     "metadata": {},
     "output_type": "execute_result"
    }
   ],
   "source": [
    "#return all the items in the dictionary\n",
    "myCar.items()"
   ]
  },
  {
   "cell_type": "code",
   "execution_count": 101,
   "metadata": {
    "colab": {
     "base_uri": "https://localhost:8080/",
     "height": 35
    },
    "executionInfo": {
     "elapsed": 153,
     "status": "ok",
     "timestamp": 1686241889366,
     "user": {
      "displayName": "Anas Buhayh",
      "userId": "13931278578707862625"
     },
     "user_tz": 360
    },
    "id": "DGyew-s42DBo",
    "outputId": "e8fb2b25-3f52-4d53-bf36-5c1df69b93fc"
   },
   "outputs": [
    {
     "data": {
      "text/plain": [
       "{'brand': 'Jeep', 'color': 'Dark-Brown', 'model': [2018, 'wrangler']}"
      ]
     },
     "execution_count": 101,
     "metadata": {},
     "output_type": "execute_result"
    }
   ],
   "source": [
    "#get rid of the name of the car\n",
    "myCar.pop(\"nickname\")\n",
    "myCar"
   ]
  },
  {
   "cell_type": "code",
   "execution_count": 103,
   "metadata": {
    "id": "kzT69VYi2VEL"
   },
   "outputs": [
    {
     "data": {
      "text/plain": [
       "{}"
      ]
     },
     "execution_count": 103,
     "metadata": {},
     "output_type": "execute_result"
    }
   ],
   "source": [
    "#clear the dictionary\n",
    "myCar.clear()\n",
    "myCar"
   ]
  },
  {
   "cell_type": "code",
   "execution_count": null,
   "metadata": {},
   "outputs": [],
   "source": []
  },
  {
   "cell_type": "markdown",
   "metadata": {
    "id": "pzE8oT6k2iVm"
   },
   "source": [
    "### Excercise 3:\n",
    "1. create a dictionary of an item you own\n",
    "2. Print out the dictionary keys\n",
    "3. print out the dicionary values\n",
    "4. add a key, value pair to the dictionary (another information about your object)\n",
    "5. update one of the items in the dictionary\n",
    "6. **BIG TASK:** \n",
    "  - add an input statement to read a key, and another one to read a value. The\n",
    "  - **if** the key is in the dictionary, update the current value. **else** create a new key value pair using the input informtion\n",
    "  - print out everything!"
   ]
  },
  {
   "cell_type": "code",
   "execution_count": null,
   "metadata": {
    "id": "JSTKlFar5Cq4"
   },
   "outputs": [],
   "source": [
    "\n"
   ]
  }
 ],
 "metadata": {
  "colab": {
   "authorship_tag": "ABX9TyP7EQtDrQK2zWb6ti0Ab8o3",
   "provenance": []
  },
  "kernelspec": {
   "display_name": "Python [conda env:base] *",
   "language": "python",
   "name": "conda-base-py"
  },
  "language_info": {
   "codemirror_mode": {
    "name": "ipython",
    "version": 3
   },
   "file_extension": ".py",
   "mimetype": "text/x-python",
   "name": "python",
   "nbconvert_exporter": "python",
   "pygments_lexer": "ipython3",
   "version": "3.12.7"
  }
 },
 "nbformat": 4,
 "nbformat_minor": 4
}
